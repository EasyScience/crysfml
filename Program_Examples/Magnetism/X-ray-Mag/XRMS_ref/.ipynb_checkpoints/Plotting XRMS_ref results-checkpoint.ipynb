{
 "cells": [
  {
   "cell_type": "markdown",
   "metadata": {},
   "source": [
    "# XRMS_ref results"
   ]
  },
  {
   "cell_type": "code",
   "execution_count": 1,
   "metadata": {
    "collapsed": false
   },
   "outputs": [],
   "source": [
    "import scipy as sp\n",
    "import matplotlib.pyplot as plt\n",
    "%matplotlib qt\n"
   ]
  },
  {
   "cell_type": "markdown",
   "metadata": {},
   "source": [
    "Reading the file with the data and the resulting parameters, and ploting the fitting."
   ]
  },
  {
   "cell_type": "code",
   "execution_count": 4,
   "metadata": {
    "collapsed": false,
    "scrolled": false
   },
   "outputs": [],
   "source": [
    "filename = 'EuPtIn4.out'\n",
    "\n",
    "data = []\n",
    "param = []\n",
    "\n",
    "data_file = open(filename, 'r')\n",
    "\n",
    "file_lines = []\n",
    "dat_type = 0\n",
    "for line in data_file:\n",
    "    if (len(line.split()) < 1): continue\n",
    "    if (line.split()[0] == 'Data'):\n",
    "        dat_type = 1\n",
    "        continue\n",
    "    if (line.split()[0] == 'parameters'):\n",
    "        dat_type = 2\n",
    "        continue\n",
    "    if (dat_type == 1):\n",
    "        data.append(line.split())\n",
    "    if (dat_type == 2):\n",
    "        param.extend(line.split()[:])\n",
    "        \n",
    "\n",
    "data = sp.array(data, dtype=float)\n",
    "data = data.transpose()\n",
    "\n",
    "h_dat = data[1]\n",
    "y_obs = data[3]\n",
    "y_calc = data[4]\n",
    "\n",
    "width = 0.3\n",
    "\n",
    "plt.figure()\n",
    "plt.plot(h_dat, y_obs, 'ro', label='Iobs')\n",
    "plt.bar(h_dat-width/2, y_calc, width)\n",
    "plt.ylim(0,110)\n",
    "plt.legend(loc=0)\n",
    "plt.title('XRMS intensities')\n",
    "plt.show()\n",
    "\n"
   ]
  },
  {
   "cell_type": "code",
   "execution_count": 6,
   "metadata": {
    "collapsed": false
   },
   "outputs": [
    {
     "data": {
      "text/plain": [
       "numpy.float64"
      ]
     },
     "execution_count": 6,
     "metadata": {},
     "output_type": "execute_result"
    }
   ],
   "source": [
    "type(h_dat[0])"
   ]
  }
 ],
 "metadata": {
  "kernelspec": {
   "display_name": "Python 3",
   "language": "python",
   "name": "python3"
  },
  "language_info": {
   "codemirror_mode": {
    "name": "ipython",
    "version": 3
   },
   "file_extension": ".py",
   "mimetype": "text/x-python",
   "name": "python",
   "nbconvert_exporter": "python",
   "pygments_lexer": "ipython3",
   "version": "3.4.3"
  }
 },
 "nbformat": 4,
 "nbformat_minor": 0
}
